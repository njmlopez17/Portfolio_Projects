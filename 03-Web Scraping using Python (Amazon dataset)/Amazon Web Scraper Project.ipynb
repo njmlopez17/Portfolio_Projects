{
 "cells": [
  {
   "cell_type": "code",
   "execution_count": 146,
   "id": "3028dbf7-ddbd-4a13-86d2-4ffa49215567",
   "metadata": {},
   "outputs": [],
   "source": [
    "# import libraries \n",
    "\n",
    "from bs4 import BeautifulSoup\n",
    "import pandas as pd\n",
    "import requests\n",
    "import time\n",
    "import datetime\n",
    "import csv\n",
    "\n",
    "import smtplib\n"
   ]
  },
  {
   "cell_type": "code",
   "execution_count": 140,
   "id": "c9a955b4-7094-46bc-a143-57721a9b6544",
   "metadata": {},
   "outputs": [
    {
     "name": "stdout",
     "output_type": "stream",
     "text": [
      "\n",
      "             PlayStation 5 Digital Edition Console (slim)\n",
      "            \n",
      "\n",
      "\n",
      "\n",
      "\n",
      "\n",
      "\n",
      "\n",
      "                                 $579.96\n",
      "                                \n",
      "\n",
      "\n",
      "                                  $\n",
      "                                 \n",
      "\n",
      "                                  579\n",
      "                                  \n",
      "                                   .\n",
      "                                  \n",
      "\n",
      "\n",
      "                                  96\n",
      "                                 \n",
      "\n",
      "\n",
      "\n",
      "\n",
      "\n",
      "\n",
      "\n",
      "\n",
      "\n",
      "\n",
      "\n"
     ]
    }
   ],
   "source": [
    "# Connect to Website and pull in data\n",
    "\n",
    "# sampling web site \n",
    "URL = 'https://www.amazon.ca/PlayStation-5-Digital-Console-slim/dp/B0CL7NKBBL/ref=sr_1_2?crid=2D3QORNJ4WSAK&dib=eyJ2IjoiMSJ9.P09n-9GEU_fvWmlJk4QWf01oGrXu-gCC4dwSAqnKr9M7hKXznaxhbUP7skL6ZyWzmGIvmS1Qr-EnIzfxQjNOlmQi8M7QNqEvBWuykSFW82PDNOxKwZQLNoQQ2AQokTTCWc6VpThJsbGjTFZ-qdD16uomLvD_F3nTKaVQd6YnDkexdQRsvnz2vCkaM--o3SYsRdryl4_IYZm4V4b4vo-bW9w__gJs-m2EZkxVAn2WijeLJTG4GfO2QiXaNPkmjajClk-ciWQHaLCVBpMYhVaYMHHhcPCzOR-VJrmE7wHBUHI.HkRzx-uxkJH8BoP-QN21n2UwneHEInmY69-KYNbuAxc&dib_tag=se&keywords=ps5%2Bconsole%2Bslim&qid=1731010455&sprefix=%2Caps%2C123&sr=8-2&th=1'\n",
    "headers = {\"User-Agent\": \"Mozilla/5.0 (Windows NT 10.0; Win64; x64) AppleWebKit/537.36 (KHTML, like Gecko) Chrome/130.0.0.0 Safari/537.36\", \"Accept-Encoding\":\"gzip, deflate\", \"Accept\":\"text/html,application/xhtml+xml,application/xml;q=0.9,*/*;q=0.8\", \"DNT\":\"1\",\"Connection\":\"close\", \"Upgrade-Insecure-Requests\":\"1\"}\n",
    "\n",
    "# connecting local machine using the details above\n",
    "page = requests.get(URL, headers=headers)\n",
    "\n",
    "# pulling in data from the url/web page\n",
    "soup1 = BeautifulSoup(page.content, \"html.parser\")\n",
    "soup2 = BeautifulSoup(soup1.prettify(), \"html.parser\")\n",
    "\n",
    "# pulling in specific data \n",
    "title = soup2.find(id='productTitle').get_text()\n",
    "price = soup2.find(id='apex_offerDisplay_desktop').get_text()\n",
    "\n",
    "# display pulled data\n",
    "print(title)\n",
    "print(price)"
   ]
  },
  {
   "cell_type": "code",
   "execution_count": 142,
   "id": "84a83a6d-d105-4308-bff7-7451dcccde21",
   "metadata": {},
   "outputs": [
    {
     "name": "stdout",
     "output_type": "stream",
     "text": [
      "PlayStation 5 Digital Edition Console (slim)\n",
      "579.96\n"
     ]
    }
   ],
   "source": [
    "# Clean up the sampling data (ie., remove $ sign from the amount)\n",
    "price = price.strip()[1:7]\n",
    "title = title.strip()\n",
    "\n",
    "# display pulled data\n",
    "print(title)\n",
    "print(price)\n"
   ]
  },
  {
   "cell_type": "code",
   "execution_count": 144,
   "id": "4e4b8415-dca9-4fc9-bb35-87d0bec74ae5",
   "metadata": {},
   "outputs": [
    {
     "name": "stdout",
     "output_type": "stream",
     "text": [
      "Sucess!\n"
     ]
    }
   ],
   "source": [
    "# create a csv file, import sampling scraped data\n",
    "\n",
    "# header\n",
    "header = ['Title', 'Price', 'Datestamp']\n",
    "\n",
    "# add the date for a datestamp\n",
    "datestamp = datetime.date.today()\n",
    "\n",
    "#data\n",
    "data = [title, price, datestamp]\n",
    "\n",
    "# create the csv file\n",
    "with open ('AmazonWebScraperDataset.csv', 'w', newline='', encoding='UTF8') as f:\n",
    "    writer = csv.writer(f)\n",
    "# bring into the file the header\n",
    "    writer.writerow(header)\n",
    "# bring into the file the data\n",
    "    writer.writerow(data)\n",
    "\n",
    "print('Sucess!')"
   ]
  },
  {
   "cell_type": "code",
   "execution_count": 152,
   "id": "9647caa4-e421-46de-9c80-4cb626761770",
   "metadata": {},
   "outputs": [
    {
     "name": "stdout",
     "output_type": "stream",
     "text": [
      "                                          Title   Price   Datestamp\n",
      "0  PlayStation 5 Digital Edition Console (slim)  579.96  2024-11-07\n"
     ]
    }
   ],
   "source": [
    "# check the content of the file in the notebook (instead of opening the actual file)\n",
    "\n",
    "# read the file\n",
    "df = pd.read_csv(r'C:\\Users\\njmlo\\Desktop\\Various Portfolio Projects\\03-Amazon Web Scraping using Python\\AmazonWebScraperDataset.csv')\n",
    "#display the data\n",
    "print(df)\n"
   ]
  },
  {
   "cell_type": "code",
   "execution_count": 154,
   "id": "c63a1343-e953-4763-b784-d554b4f79594",
   "metadata": {},
   "outputs": [
    {
     "name": "stdout",
     "output_type": "stream",
     "text": [
      "Sucess!\n"
     ]
    }
   ],
   "source": [
    "# append the data in the file (make sure the file is not open in the local machine)\n",
    "\n",
    "# create the csv file\n",
    "with open ('AmazonWebScraperDataset.csv', 'a+', newline='', encoding='UTF8') as f:\n",
    "    writer = csv.writer(f)\n",
    "# bring into the file the data\n",
    "    writer.writerow(data)\n",
    "\n",
    "print('Sucess!')\n"
   ]
  },
  {
   "cell_type": "code",
   "execution_count": 156,
   "id": "d70bd7a7-3344-4518-b0b5-34a8b5ac093d",
   "metadata": {},
   "outputs": [
    {
     "name": "stdout",
     "output_type": "stream",
     "text": [
      "                                          Title   Price   Datestamp\n",
      "0  PlayStation 5 Digital Edition Console (slim)  579.96  2024-11-07\n",
      "1  PlayStation 5 Digital Edition Console (slim)  579.96  2024-11-07\n"
     ]
    }
   ],
   "source": [
    "# check the content of the file in the notebook (instead of opening the actual file)\n",
    "\n",
    "# read the file\n",
    "df = pd.read_csv(r'C:\\Users\\njmlo\\Desktop\\Various Portfolio Projects\\03-Amazon Web Scraping using Python\\AmazonWebScraperDataset.csv')\n",
    "#display the data\n",
    "print(df)"
   ]
  },
  {
   "cell_type": "code",
   "execution_count": 160,
   "id": "0a9a22b1-e321-4902-8121-a301dcba1daf",
   "metadata": {},
   "outputs": [
    {
     "name": "stdout",
     "output_type": "stream",
     "text": [
      "Sucess!\n"
     ]
    }
   ],
   "source": [
    "# a sampling scenario is monitoring the price (price check)\n",
    "\n",
    "def price_check():\n",
    "    # sampling web site \n",
    "    URL = 'https://www.amazon.ca/PlayStation-5-Digital-Console-slim/dp/B0CL7NKBBL/ref=sr_1_2?crid=2D3QORNJ4WSAK&dib=eyJ2IjoiMSJ9.P09n-9GEU_fvWmlJk4QWf01oGrXu-gCC4dwSAqnKr9M7hKXznaxhbUP7skL6ZyWzmGIvmS1Qr-EnIzfxQjNOlmQi8M7QNqEvBWuykSFW82PDNOxKwZQLNoQQ2AQokTTCWc6VpThJsbGjTFZ-qdD16uomLvD_F3nTKaVQd6YnDkexdQRsvnz2vCkaM--o3SYsRdryl4_IYZm4V4b4vo-bW9w__gJs-m2EZkxVAn2WijeLJTG4GfO2QiXaNPkmjajClk-ciWQHaLCVBpMYhVaYMHHhcPCzOR-VJrmE7wHBUHI.HkRzx-uxkJH8BoP-QN21n2UwneHEInmY69-KYNbuAxc&dib_tag=se&keywords=ps5%2Bconsole%2Bslim&qid=1731010455&sprefix=%2Caps%2C123&sr=8-2&th=1'\n",
    "    headers = {\"User-Agent\": \"Mozilla/5.0 (Windows NT 10.0; Win64; x64) AppleWebKit/537.36 (KHTML, like Gecko) Chrome/130.0.0.0 Safari/537.36\", \"Accept-Encoding\":\"gzip, deflate\", \"Accept\":\"text/html,application/xhtml+xml,application/xml;q=0.9,*/*;q=0.8\", \"DNT\":\"1\",\"Connection\":\"close\", \"Upgrade-Insecure-Requests\":\"1\"}\n",
    "\n",
    "    # connecting local machine using the details above\n",
    "    page = requests.get(URL, headers=headers)\n",
    "\n",
    "    # pulling in data from the url/web page\n",
    "    soup1 = BeautifulSoup(page.content, \"html.parser\")\n",
    "    soup2 = BeautifulSoup(soup1.prettify(), \"html.parser\")\n",
    "\n",
    "    # pulling in specific data \n",
    "    title = soup2.find(id='productTitle').get_text()\n",
    "    price = soup2.find(id='apex_offerDisplay_desktop').get_text()\n",
    "    \n",
    "    # Clean up the sampling data (ie., remove $ sign from the amount)\n",
    "    price = price.strip()[1:7]\n",
    "    title = title.strip()\n",
    "\n",
    "    # header\n",
    "    header = ['Title', 'Price', 'Datestamp']\n",
    "\n",
    "    # add the date for a datestamp\n",
    "    datestamp = datetime.date.today()\n",
    "\n",
    "    #data\n",
    "    data = [title, price, datestamp]\n",
    "\n",
    "    # create the csv file\n",
    "    with open ('AmazonWebScraperDataset.csv', 'a+', newline='', encoding='UTF8') as f:\n",
    "        writer = csv.writer(f)\n",
    "    # bring into the file the data\n",
    "        writer.writerow(data)\n",
    "\n",
    "print('Sucess!')\n"
   ]
  },
  {
   "cell_type": "code",
   "execution_count": null,
   "id": "113cf111-c01d-41a7-84c9-abd454495880",
   "metadata": {},
   "outputs": [],
   "source": [
    "# automate and monitor a sampling scenario of a (daily) price check\n",
    "\n",
    "while(True):\n",
    "    price_check()\n",
    "    time.sleep(5) # 5 is for testing the code, replace with 86400 so it auto-run daily (60 sec x 60 min x 24 hrs per day = 86400)\n",
    "\n",
    "print('Sucess!')\n"
   ]
  },
  {
   "cell_type": "code",
   "execution_count": 165,
   "id": "2a01fdaf-25a1-4f44-b881-08532eb3d07b",
   "metadata": {},
   "outputs": [
    {
     "name": "stdout",
     "output_type": "stream",
     "text": [
      "                                          Title   Price   Datestamp\n",
      "0  PlayStation 5 Digital Edition Console (slim)  579.96  2024-11-07\n",
      "1  PlayStation 5 Digital Edition Console (slim)  579.96  2024-11-07\n",
      "2  PlayStation 5 Digital Edition Console (slim)  579.96  2024-11-07\n",
      "3  PlayStation 5 Digital Edition Console (slim)  579.96  2024-11-07\n",
      "4  PlayStation 5 Digital Edition Console (slim)  579.96  2024-11-07\n",
      "5  PlayStation 5 Digital Edition Console (slim)  579.96  2024-11-07\n",
      "6  PlayStation 5 Digital Edition Console (slim)  579.96  2024-11-07\n",
      "7  PlayStation 5 Digital Edition Console (slim)  579.96  2024-11-07\n"
     ]
    }
   ],
   "source": [
    "# check the content of the file in the notebook (instead of opening the actual file)\n",
    "\n",
    "# read the file\n",
    "df = pd.read_csv(r'C:\\Users\\njmlo\\Desktop\\Various Portfolio Projects\\03-Amazon Web Scraping using Python\\AmazonWebScraperDataset.csv')\n",
    "#display the data\n",
    "print(df)"
   ]
  },
  {
   "cell_type": "code",
   "execution_count": null,
   "id": "074f1602-84ff-4577-b61c-7b5d6e34c8e8",
   "metadata": {},
   "outputs": [],
   "source": [
    "# im monitoring the sampling scenario (price check), \n",
    "# have an email setup to be sent if the price is below a certain point\n",
    "\n",
    "def send_mail():\n",
    "    server = smtplib.SMTP_SSL('smtp.gmail.com',465)\n",
    "    server.ehlo()\n",
    "    #server.starttls()\n",
    "    server.ehlo()\n",
    "    server.login('<place email here>','xxxxxxxxxxxxxx')\n",
    "    \n",
    "    subject = \"The console you want is below $15! Now is your chance to buy!\"\n",
    "    body = \"This is the moment we have been waiting for. Now is your chance to pick up the shirt of your dreams. Don't mess it up! Link here: https://www.amazon.ca/PlayStation-5-Digital-Console-slim/dp/B0CL7NKBBL/ref=sr_1_2?crid=2D3QORNJ4WSAK&dib=eyJ2IjoiMSJ9.P09n-9GEU_fvWmlJk4QWf01oGrXu-gCC4dwSAqnKr9M7hKXznaxhbUP7skL6ZyWzmGIvmS1Qr-EnIzfxQjNOlmQi8M7QNqEvBWuykSFW82PDNOxKwZQLNoQQ2AQokTTCWc6VpThJsbGjTFZ-qdD16uomLvD_F3nTKaVQd6YnDkexdQRsvnz2vCkaM--o3SYsRdryl4_IYZm4V4b4vo-bW9w__gJs-m2EZkxVAn2WijeLJTG4GfO2QiXaNPkmjajClk-ciWQHaLCVBpMYhVaYMHHhcPCzOR-VJrmE7wHBUHI.HkRzx-uxkJH8BoP-QN21n2UwneHEInmY69-KYNbuAxc&dib_tag=se&keywords=ps5%2Bconsole%2Bslim&qid=1731010455&sprefix=%2Caps%2C123&sr=8-2&th=1\"\n",
    "   \n",
    "    msg = f\"Subject: {subject}\\n\\n{body}\"\n",
    "    \n",
    "    server.sendmail(\n",
    "        '<place email here>',\n",
    "        msg\n",
    "     \n",
    "    )"
   ]
  }
 ],
 "metadata": {
  "kernelspec": {
   "display_name": "Python 3 (ipykernel)",
   "language": "python",
   "name": "python3"
  },
  "language_info": {
   "codemirror_mode": {
    "name": "ipython",
    "version": 3
   },
   "file_extension": ".py",
   "mimetype": "text/x-python",
   "name": "python",
   "nbconvert_exporter": "python",
   "pygments_lexer": "ipython3",
   "version": "3.12.7"
  }
 },
 "nbformat": 4,
 "nbformat_minor": 5
}
